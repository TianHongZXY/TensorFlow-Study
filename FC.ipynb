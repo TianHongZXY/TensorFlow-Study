{
 "cells": [
  {
   "cell_type": "code",
   "execution_count": 1,
   "metadata": {},
   "outputs": [],
   "source": [
    "import tensorflow as tf\n",
    "import numpy as np\n",
    "import matplotlib.pyplot as plt"
   ]
  },
  {
   "cell_type": "code",
   "execution_count": 2,
   "metadata": {},
   "outputs": [],
   "source": [
    "def initialize_parameters_3(num_units_x, num_units_L1, num_units_L2, num_units_y):\n",
    "    \"\"\"\n",
    "    初始化计算三层网络的weight和bias项\n",
    "    \"\"\"\n",
    "    \n",
    "    # weight的shape是(下一层的节点数，上一层的节点数)\n",
    "    np.random.seed(3)\n",
    "    W1 = np.random.randn(num_units_L1, num_units_x) * 0.1\n",
    "    b1 = np.zeros(shape=(num_units_L1, 1))\n",
    "    W2 = np.random.randn(num_units_L2, num_units_L1) * 0.1\n",
    "    b2 = np.zeros(shape=(num_units_L2, 1))\n",
    "    W3 = np.random.randn(num_units_y, num_units_L2) * 0.1\n",
    "    b3 = np.zeros(shape=(num_units_y, 1))\n",
    "    \n",
    "    parameters = {\"W1\": W1,\n",
    "                  \"b1\": b1,\n",
    "                  \"W2\": W2,\n",
    "                  \"b2\": b2,\n",
    "                  \"W3\": W3,\n",
    "                  \"b3\": b3}\n",
    "    \n",
    "    return parameters"
   ]
  },
  {
   "cell_type": "code",
   "execution_count": 3,
   "metadata": {},
   "outputs": [],
   "source": [
    "def initialize_parameters_n(layer_dimentions):\n",
    "    \"\"\"\n",
    "    初始化可自定义神经网络层数的weight和bias\n",
    "    传入的layer_dimentions是列表，[1,2,3,4]代表第一层(即输入层X)节点数为1，第二层为2，以此类推，第4层(即输出层Y)为4\n",
    "    \"\"\"\n",
    "    \n",
    "    np.random.seed(3)\n",
    "    # 记录层数L\n",
    "    L = len(layer_dimentions)\n",
    "    parameters = {}\n",
    "    # 算上输入层共有L层，所以实际要计算的共L-1层，所以weight有L-1个\n",
    "    for l in range(1, L):\n",
    "        parameters['W' + str(l)] = np.random.randn(layer_dimentions[l], layer_dimentions[l-1]) * 0.01\n",
    "        parameters['b' + str(l)] = np.zeros((layer_dimentions[l], 1))\n",
    "        #print('b' + str(l)+ '.shape = ' + str(parameters['b' + str(l)].shape))\n",
    "\n",
    "    return parameters"
   ]
  },
  {
   "cell_type": "code",
   "execution_count": 4,
   "metadata": {},
   "outputs": [],
   "source": [
    "def activation_relu(Z):\n",
    "    Z = np.maximum(0, Z)\n",
    "    return Z"
   ]
  },
  {
   "cell_type": "code",
   "execution_count": 5,
   "metadata": {},
   "outputs": [
    {
     "name": "stdout",
     "output_type": "stream",
     "text": [
      "[[0.         0.         0.         0.        ]\n",
      " [0.55469899 0.77661509 0.         0.        ]\n",
      " [0.         1.91201631 0.57451838 0.17176723]]\n"
     ]
    }
   ],
   "source": [
    "print(activation_relu(np.random.randn(3,4)))"
   ]
  },
  {
   "cell_type": "code",
   "execution_count": 6,
   "metadata": {},
   "outputs": [],
   "source": [
    "def activation_sigmoid(Z):\n",
    "    Z = 1 / (1 + np.exp(-Z))\n",
    "    return Z"
   ]
  },
  {
   "cell_type": "code",
   "execution_count": 7,
   "metadata": {},
   "outputs": [
    {
     "name": "stdout",
     "output_type": "stream",
     "text": [
      "[[0.93404033 0.27095508 0.21066288 0.38946652]\n",
      " [0.61655104 0.47455385 0.47659128 0.53819507]\n",
      " [0.8747573  0.1445259  0.75548924 0.2850665 ]]\n"
     ]
    }
   ],
   "source": [
    "print(activation_sigmoid(np.random.randn(3,4)))"
   ]
  },
  {
   "cell_type": "code",
   "execution_count": 8,
   "metadata": {},
   "outputs": [],
   "source": [
    "def activation_tanh(Z):\n",
    "    Z = (np.exp(Z) - np.exp(-Z)) / (np.exp(Z) + np.exp(-Z))\n",
    "    return Z"
   ]
  },
  {
   "cell_type": "code",
   "execution_count": 9,
   "metadata": {},
   "outputs": [
    {
     "name": "stdout",
     "output_type": "stream",
     "text": [
      "[[-0.07292549 -0.9474426  -0.7188451   0.11214934]\n",
      " [-0.79475681 -0.95169994  0.96233135 -0.17953979]\n",
      " [ 0.11195175  0.22682011 -0.43707357  0.66465716]]\n"
     ]
    }
   ],
   "source": [
    "print(activation_tanh(np.random.randn(3,4)))"
   ]
  },
  {
   "cell_type": "code",
   "execution_count": 70,
   "metadata": {},
   "outputs": [],
   "source": [
    "def softmax(Z):\n",
    "    \"\"\"每一列为一个实例\"\"\"\n",
    "    #print(Z)\n",
    "    sum_e = np.sum(np.exp(Z),axis=0)\n",
    "    #print(sum_e)\n",
    "    Z = np.exp(Z) / sum_e\n",
    "    return Z"
   ]
  },
  {
   "cell_type": "code",
   "execution_count": 11,
   "metadata": {},
   "outputs": [
    {
     "name": "stdout",
     "output_type": "stream",
     "text": [
      "[[ 1.96699371 -1.2869314  -0.20105464  0.47178171]\n",
      " [-0.69329433  0.4430299  -0.92062036  0.27360391]\n",
      " [-0.6018457   1.15993733 -1.06568879 -0.79238439]]\n",
      "[8.19687782 5.02326903 1.56063012 3.37030537]\n",
      "[[0.87217986 0.05496755 0.52406251 0.4755793 ]\n",
      " [0.06098986 0.31004091 0.25519941 0.39008156]\n",
      " [0.06683028 0.63499154 0.22073808 0.13433915]]\n"
     ]
    }
   ],
   "source": [
    "print(softmax(np.random.randn(3,4)))"
   ]
  },
  {
   "cell_type": "code",
   "execution_count": 12,
   "metadata": {},
   "outputs": [],
   "source": [
    "def linear_prop(A_prev, W, b):\n",
    "    # A_prev是上一层计算得到的\n",
    "    Z = np.dot(W, A_prev) + b\n",
    "    # cache后面用作反向传播\n",
    "    cache = (A_prev, W, b, Z)\n",
    "    return Z, cache"
   ]
  },
  {
   "cell_type": "code",
   "execution_count": 40,
   "metadata": {},
   "outputs": [],
   "source": [
    "def activation_prop(A_prev, W, b, activation):\n",
    "    \"\"\"含有激活函数的前向传播\"\"\"\n",
    "    #print('传入的b.shape = ' + str(b.shape))\n",
    "    if activation == 'sigmoid':\n",
    "        Z = np.dot(W, A_prev) + b\n",
    "        A = activation_sigmoid(Z)\n",
    "        cache = (A_prev, W, b, A)\n",
    "        return A, cache\n",
    "    \n",
    "    elif activation == 'tanh':\n",
    "        Z = np.dot(W, A_prev) + b\n",
    "        A = activation_tanh(Z)\n",
    "        cache = (A_prev, W, b, A)\n",
    "        return A, cache\n",
    "    \n",
    "    elif activation == 'relu':\n",
    "        #print('b.shape = ' + str(b.shape))\n",
    "        Z = np.dot(W, A_prev) + b\n",
    "        #print('计算后Z.shape = ' + str(Z.shape))\n",
    "        A = activation_relu(Z)\n",
    "        #print('计算后A.shape = ' + str(A.shape))\n",
    "        cache = (A_prev, W, b, A)\n",
    "        return A, cache\n",
    "    elif activation == 'softmax':\n",
    "        Z = np.dot(W, A_prev) + b\n",
    "        A = softmax(Z)\n",
    "        cache = (A_prev, W, b, A)\n",
    "    \n",
    "    else:\n",
    "        print('error')\n",
    "        return None"
   ]
  },
  {
   "cell_type": "code",
   "execution_count": 82,
   "metadata": {},
   "outputs": [],
   "source": [
    "def forward_prop(X, parameters, activation):\n",
    "    caches = []\n",
    "    L = len(parameters) // 2\n",
    "    A = X\n",
    "       \n",
    "    if activation == 'linear':\n",
    "        for l in range(1, L):\n",
    "            A_prev = A\n",
    "            A, cache = linear_prop(A_prev, parameters['W' + str(l)], parameters['b' + str(l)])\n",
    "            caches.append(cache)\n",
    "        \n",
    "    if activation == 'sigmoid':\n",
    "        for l in range(1, L):\n",
    "            A_prev = A\n",
    "            A, cache = activation_prop(A_prev, parameters['W' + str(l)], parameters['b' + str(l)],activation = 'sigmoid')\n",
    "            caches.append(cache)\n",
    "        \n",
    "    if activation == 'tanh':\n",
    "        for l in range(1, L):\n",
    "            A_prev = A\n",
    "            A, cache = activation_prop(A_prev, parameters['W' + str(l)], parameters['b' + str(l)],activation = 'tanh')\n",
    "            caches.append(cache)\n",
    "        \n",
    "    if activation == 'relu':\n",
    "        for l in range(1, L):\n",
    "            A_prev = A\n",
    "            A, cache = activation_prop(A_prev, parameters['W' + str(l)], parameters['b' + str(l)],activation = 'relu')\n",
    "            caches.append(cache)\n",
    "    # 最后一层\n",
    "    A_prev = A\n",
    "    A, _ = activation_prop(A_prev, parameters['W'+str(L)], parameters['b' + str(L)], activation = 'relu')\n",
    "    \n",
    "    # softmax\n",
    "    AL = softmax(A)\n",
    "    cache = (A_prev, parameters['W'+str(L)], parameters['b' + str(L)], AL)\n",
    "    caches.append(cache)\n",
    "    assert(AL.shape == (10, X.shape[1]))\n",
    "    return AL, caches"
   ]
  },
  {
   "cell_type": "code",
   "execution_count": 147,
   "metadata": {},
   "outputs": [],
   "source": [
    "def compute_cost(Y, AL):\n",
    "    # m为实例个数\n",
    "    m = Y.shape[1]\n",
    "    # cost为交叉熵\n",
    "    cost = (-1 / m) * np.sum(np.multiply(Y, np.log(AL + 1e-8)) + np.multiply(1 - Y, np.log(1 - AL + 1e-8)))\n",
    "    #cost = 1 / m * np.sum((AL-Y)**2)\n",
    "    cost = np.squeeze(cost)\n",
    "    \n",
    "    return cost"
   ]
  },
  {
   "cell_type": "code",
   "execution_count": 16,
   "metadata": {},
   "outputs": [],
   "source": [
    "def linear_backward(dZ, cache):\n",
    "    '''\n",
    "    输入Z的梯度\n",
    "    cache保存了当初计算Z时用的A_prev,W,b\n",
    "    返回上层计算Z时用的A,W,b的梯度\n",
    "    '''\n",
    "    A_prev, W, b, A = cache\n",
    "    m = A_prev.shape[1]\n",
    "\n",
    "    dW = 1 / m * np.dot(dZ, A_prev.T)\n",
    "    db = 1 / m * np.squeeze(np.sum(dZ, axis=1, keepdims=True))\n",
    "    db = np.reshape(db,(db.shape[0],1))\n",
    "    #print('一次反向传播后db.shape = ' + str(db.shape))\n",
    "    dA_prev = np.dot(W.T, dZ)\n",
    "    \n",
    "    return dA_prev, dW, db"
   ]
  },
  {
   "cell_type": "code",
   "execution_count": 86,
   "metadata": {},
   "outputs": [],
   "source": [
    "def relu_backward(dA, cache):\n",
    "    A_prev, W, b, A = cache\n",
    "    Z = np.dot(W, A_prev) + b\n",
    "    dZ = np.array(dA, copy=True) # just converting dz to a correct object.\n",
    "    \n",
    "    # When z <= 0, you should set dz to 0 as well. \n",
    "    dZ[Z <= 0] = 0\n",
    "    \n",
    "    assert (dZ.shape == Z.shape)\n",
    "    \n",
    "    return dZ"
   ]
  },
  {
   "cell_type": "code",
   "execution_count": 153,
   "metadata": {},
   "outputs": [],
   "source": [
    "def activation_backprop(dA, cache, activation):\n",
    "    \"\"\"\n",
    "    输入当前层激活后的函数值与相应的激活函数种类，\n",
    "    计算激活函数的导数，\n",
    "    乘上dA后得到dZ，再将dZ交给linear_backward计算，\n",
    "    返回上层计算Z时用的A,W,b的梯度\n",
    "    \"\"\"\n",
    "    A_prev, W, b, A = cache\n",
    "    if activation == \"relu\":\n",
    "        #dZ = dA * (A > 0)\n",
    "        dZ = relu_backward(dA, cache)\n",
    "        dA_prev, dW, db = linear_backward(dZ, cache)\n",
    "        \n",
    "    elif activation == \"sigmoid\":\n",
    "        dZ = dA * (A * (1 - A))\n",
    "        dA_prev, dW, db = linear_backward(dZ, cache)\n",
    "        \n",
    "    elif activation =='tanh':\n",
    "        dZ = dA * (1 - np.power(A,2))\n",
    "        dA_prev, dW, db = linear_backward(dZ, cache)\n",
    "        \n",
    "    elif activation =='linear':\n",
    "        dA_prev, dW, db = linear_backward(dZ, cache)\n",
    "        \n",
    "    else:\n",
    "        print('error')\n",
    "        return None\n",
    "\n",
    "    return dA_prev, dW, db"
   ]
  },
  {
   "cell_type": "code",
   "execution_count": 18,
   "metadata": {},
   "outputs": [],
   "source": [
    "def three_layers_backprop(AL, Y, caches, activation='relu'):\n",
    "    \"\"\"\n",
    "    含有3层神经网络的反向传播\n",
    "    \"\"\"\n",
    "    grads = {}\n",
    "    L = 3\n",
    "    m = AL.shape[1]\n",
    "    Y = Y.reshape(AL.shape)\n",
    "    dAL = -( Y / AL ) + (1 - Y) / (1 - AL)\n",
    "    dZL = AL - Y\n",
    "    \n",
    "    A2, W3, b3 = cache[-1]\n",
    "    A1, W2, b2 = cache[-2]\n",
    "    A0, W1, b1 = cache[-3]\n",
    "    \n",
    "    m = A0.shape[1]\n",
    "\n",
    "    dW3 = 1 / m * np.dot(dZL, A2.T)\n",
    "    db3 = 1 / m * np.squeeze(np.sum(dZL, axis=1, keepdims=True))\n",
    "    dA2 = np.dot(W3.T, dZL)\n",
    "    dZ2 = dA2 * (A2 > 0)\n",
    "    \n",
    "    dW2 = 1 / m * np.dot(dZ2, A1.T)\n",
    "    db2 = 1 / m * np.squeeze(np.sum(dZ2, axis=1, keepdims=True))\n",
    "    dA1 = np.dot(W3.T, dZL)\n",
    "    dZ1 = dA1 * (A1 > 0)\n",
    "    \n",
    "    dW1 = 1 / m * np.dot(dZ1, A0.T)\n",
    "    db1 = 1 / m * np.squeeze(np.sum(dZ1, axis=1, keepdims=True))\n",
    "    assert(dW1.shape == W1.shape)\n",
    "    assert(dW2.shape == W2.shape)\n",
    "    assert(dW3.shape == W3.shape)\n",
    "    assert(db1.shape == b1.shape)\n",
    "    assert(db2.shape == b2.shape)\n",
    "    assert(db3.shape == b2.shape)\n",
    "    \n",
    "    return dW1,dW2,dW3,db1,db2,db3"
   ]
  },
  {
   "cell_type": "code",
   "execution_count": 72,
   "metadata": {},
   "outputs": [],
   "source": [
    "def L_layers_backprop(AL, Y, caches, activation):\n",
    "    \"\"\"\n",
    "    含有L层神经网络的反向传播\n",
    "    \"\"\"\n",
    "    grads = {}\n",
    "    L = len(caches)\n",
    "    m = AL.shape[1]\n",
    "    Y = Y.reshape(AL.shape)\n",
    "    # 最后一层激活函数为softmax\n",
    "    dAL = -( Y / AL ) + (1 - Y) / (1 - AL)\n",
    "    dZL = AL - Y\n",
    "    # 获得计算最后一层的cache\n",
    "    current_cache = caches[-1]\n",
    "    # 获得计算最后一层的W，b的梯度\n",
    "    grads[\"dA\" + str(L-1)], grads[\"dW\" + str(L)], grads[\"db\" + str(L)] = linear_backward(dZL,current_cache)\n",
    "    grads[\"dA\" + str(L)] = dAL\n",
    "    for l in [2,1]:\n",
    "        # 从倒数第二层开始，即 L-1层,\n",
    "        dA_prev_temp, dW_temp, db_temp = activation_backprop(grads[\"dA\"+str(l)], caches[l-1], activation='relu')\n",
    "        grads[\"dA\" + str(l-1)] = dA_prev_temp\n",
    "        grads[\"dW\" + str(l)] = dW_temp\n",
    "        grads[\"db\" + str(l)] = db_temp\n",
    "        #print('grads[\"dA\"{}'.format(l) + str(grads[\"dA\" + str(l)].shape))\n",
    "    #print(grads.keys())    \n",
    "    return grads"
   ]
  },
  {
   "cell_type": "code",
   "execution_count": 59,
   "metadata": {},
   "outputs": [
    {
     "name": "stdout",
     "output_type": "stream",
     "text": [
      "[2, 1]\n"
     ]
    }
   ],
   "source": [
    "i = [l for l in reversed(range(1,3))]\n",
    "print(i)"
   ]
  },
  {
   "cell_type": "code",
   "execution_count": 20,
   "metadata": {},
   "outputs": [
    {
     "name": "stdout",
     "output_type": "stream",
     "text": [
      "[9, 8, 7, 6, 5, 4, 3, 2, 1]\n"
     ]
    }
   ],
   "source": [
    "print([l for l in reversed(range(1,10))])"
   ]
  },
  {
   "cell_type": "code",
   "execution_count": 21,
   "metadata": {},
   "outputs": [],
   "source": [
    "def update_parameters(parameters, grads, learning_rate = 0.01):\n",
    "    \"\"\"\n",
    "    梯度下降,更新参数\n",
    "    \"\"\"\n",
    "    L = len(parameters) // 2\n",
    "    #print('L(grads)//2 = ' + str(len(grads) // 2) )\n",
    "    for l in range(L):\n",
    "        parameters[\"W\" + str(l + 1)] = parameters[\"W\" + str(l + 1)] - learning_rate * grads[\"dW\" + str(l + 1)]\n",
    "        parameters[\"b\" + str(l + 1)] = parameters[\"b\" + str(l + 1)] - learning_rate * grads[\"db\" + str(l + 1)]\n",
    "    \n",
    "    return parameters"
   ]
  },
  {
   "cell_type": "code",
   "execution_count": 136,
   "metadata": {},
   "outputs": [],
   "source": [
    "def three_layers_nn(X,Y,layers_dimentions,learning_rate=0.03,num_iterations=5001,activation='relu'):\n",
    "    \"\"\"\n",
    "    三层神经网络的模型，\n",
    "    输入训练集X，标签集Y，三层网络分别的节点数\n",
    "    默认学习率0.01，训练5000次，激活函数为relu\n",
    "    \"\"\"\n",
    "    grads = {}\n",
    "    costs = []\n",
    "    caches = []\n",
    "    m = X.shape[1] \n",
    "    \n",
    "    parameters = initialize_parameters_n(layers_dimentions)\n",
    "    \"\"\"W1 = parameters[\"W1\"]\n",
    "    b1 = parameters[\"b1\"]\n",
    "    W2 = parameters[\"W2\"]\n",
    "    b2 = parameters[\"b2\"]\n",
    "    W3 = parameters[\"W3\"]\n",
    "    b3 = parameters[\"b3\"]\"\"\"\n",
    "    \n",
    "    '''print('主函数中W1.shape = ' + str(W1.shape))\n",
    "    print('主函数中W2.shape = ' + str(W2.shape))\n",
    "    print('主函数中W3.shape = ' + str(W3.shape))\n",
    "    print('主函数中b1.shape = ' + str(b1.shape))\n",
    "    print('主函数中b2.shape = ' + str(b2.shape))\n",
    "    print('主函数中b3.shape = ' + str(b3.shape))'''\n",
    "    for i in range(0, num_iterations):\n",
    "        # 前向传播\n",
    "        learning_rate_decay = learning_rate * np.power(0.99,i//100)\n",
    "        A3, caches = forward_prop(X, parameters, activation)\n",
    "        \"\"\"\n",
    "        A0 = X\n",
    "        A1, cache1 = activation_prop(A0, W1, b1, activation=activation)\n",
    "        A2, cache2 = activation_prop(A1, W2, b2, activation=activation)\n",
    "        A3, cache3 = activation_prop(A2, W3, b3, activation=activation)\n",
    "        caches.append(cache1)\n",
    "        caches.append(cache2)\n",
    "        caches.append(cache3)\n",
    "        \"\"\"\n",
    "        # 计算ocst\n",
    "        cost = compute_cost(Y, A3)\n",
    "        \n",
    "        # 反向传播\n",
    "        #dA3 = - (np.divide(Y, A3+0.0001) - np.divide(1 - Y, (1 - A3)+0.0001))\n",
    "        #dZ3 = A3 - Y\n",
    "        grads = L_layers_backprop(A3, Y, caches, activation)\n",
    "        \n",
    "        \"\"\"dA2, dW3, db3 = activation_backprop(dA3, caches[-1], activation='relu')\n",
    "        dA1, dW2, db2 = activation_backprop(dA2, caches[-2], activation='relu')\n",
    "        _,dW1,db1 = activation_backprop(dA1,caches[-3],activation='relu')\"\"\"\n",
    "        \n",
    "        \"\"\"# 记录梯度\n",
    "        grads['dW1'] = dW1\n",
    "        grads['db1'] = db1\n",
    "        grads['dW2'] = dW2\n",
    "        grads['db2'] = db2\n",
    "        grads['dW3'] = dW3\n",
    "        grads['db3'] = db3\"\"\"\n",
    "        \n",
    "        # 更新参数\n",
    "        parameters = update_parameters(parameters, grads, learning_rate=learning_rate_decay)\n",
    "\n",
    "        \"\"\"# 将参数记录进字典parameters\n",
    "        W1 = parameters[\"W1\"]\n",
    "        b1 = parameters[\"b1\"]\n",
    "        W2 = parameters[\"W2\"]\n",
    "        b2 = parameters[\"b2\"]\n",
    "        W3 = parameters[\"W3\"]\n",
    "        b3 = parameters[\"b3\"]\"\"\"\n",
    "        #print('一次迭代后b1.shape = ' + str(b1.shape))\n",
    "        # 每100次打印并记录cost值\n",
    "        if i % 100 == 0:\n",
    "            print(\"Cost after iteration {}: {}\".format(i, np.squeeze(cost)))\n",
    "            costs.append(cost)\n",
    "       \n",
    "    \n",
    "    plt.plot(np.squeeze(costs))\n",
    "    plt.xlabel('iterations (per tens)')\n",
    "    plt.ylabel('cost')\n",
    "    plt.title(\"Learning rate =\" + str(learning_rate))\n",
    "    plt.show()\n",
    "    \n",
    "    return parameters"
   ]
  },
  {
   "cell_type": "code",
   "execution_count": 1,
   "metadata": {},
   "outputs": [
    {
     "name": "stdout",
     "output_type": "stream",
     "text": [
      "dict_keys(['batch_label', 'labels', 'data', 'filenames'])\n"
     ]
    }
   ],
   "source": [
    "import pickle\n",
    "\n",
    "def load_file(cifar):\n",
    "    '''加载cifar数据集'''\n",
    "    with open('D:\\cifar-10-batches-py\\\\'+str(cifar), 'rb') as fo:\n",
    "        data = pickle.load(fo, encoding='latin1')\n",
    "    return data\n",
    "data = load_file('test_batch')\n",
    "print(data.keys())\n"
   ]
  },
  {
   "cell_type": "code",
   "execution_count": 2,
   "metadata": {},
   "outputs": [
    {
     "name": "stdout",
     "output_type": "stream",
     "text": [
      "testing batch 1 of 1\n"
     ]
    }
   ],
   "source": [
    "print(data['batch_label'])"
   ]
  },
  {
   "cell_type": "code",
   "execution_count": 117,
   "metadata": {},
   "outputs": [],
   "source": [
    "data_all_x = data['data'] \n",
    "data_all_x = data_all_x.T      # shape = (3072, 10000)\n",
    "data_all_y = data['labels']\n",
    "\n",
    "data_all_y = np.array(data_all_y)\n",
    "#print(data1_y.shape)\n",
    "\n",
    "data_all_y = tf.one_hot(data_all_y, 10, axis = 0)\n",
    "sess = tf.Session()\n",
    "data_all_y = sess.run(data_all_y) # shape = (10, 10000)\n",
    "\n",
    "data1_x = data_all_x[:,0:500]\n",
    "data1_y = data_all_y[:,0:500]\n",
    "\n",
    "data_x_test = data_all_x[:,500:]\n",
    "data_y_test = data_all_y[:,500:]\n",
    "data_y_test = np.array(data_y_test)\n",
    "\n",
    "\n",
    "sess.close()"
   ]
  },
  {
   "cell_type": "code",
   "execution_count": 77,
   "metadata": {},
   "outputs": [],
   "source": [
    "layers_dimentions = [3072,20,15,10]"
   ]
  },
  {
   "cell_type": "code",
   "execution_count": 155,
   "metadata": {},
   "outputs": [],
   "source": [
    "import warnings\n",
    "warnings.simplefilter(action = \"ignore\", category = RuntimeWarning)"
   ]
  },
  {
   "cell_type": "code",
   "execution_count": 158,
   "metadata": {
    "scrolled": true
   },
   "outputs": [
    {
     "name": "stdout",
     "output_type": "stream",
     "text": [
      "Cost after iteration 0: 3.25110021697056\n",
      "Cost after iteration 100: 3.23799221134182\n",
      "Cost after iteration 200: 3.2009933899111767\n",
      "Cost after iteration 300: 3.11673778691367\n",
      "Cost after iteration 400: 3.0275136683139863\n",
      "Cost after iteration 500: 2.980875065850043\n",
      "Cost after iteration 600: 2.9407950114663355\n",
      "Cost after iteration 700: 2.948517452015645\n",
      "Cost after iteration 800: 2.895761428285215\n",
      "Cost after iteration 900: 2.8350432614060552\n",
      "Cost after iteration 1000: 2.7608594044053536\n",
      "Cost after iteration 1100: 2.68144119190527\n",
      "Cost after iteration 1200: 2.5902195688845944\n",
      "Cost after iteration 1300: 2.5068160043609526\n",
      "Cost after iteration 1400: 2.5028717568110967\n",
      "Cost after iteration 1500: 2.4863152880706676\n",
      "Cost after iteration 1600: 2.2191525093332407\n",
      "Cost after iteration 1700: 2.5251901877318814\n",
      "Cost after iteration 1800: 2.2079747743989673\n",
      "Cost after iteration 1900: 2.2461805148675005\n",
      "Cost after iteration 2000: 2.026579421638606\n",
      "Cost after iteration 2100: 2.292096531588587\n",
      "Cost after iteration 2200: 1.9835399549182067\n",
      "Cost after iteration 2300: 1.7493690044669157\n",
      "Cost after iteration 2400: 1.706748565970703\n",
      "Cost after iteration 2500: 1.7370355727338065\n",
      "Cost after iteration 2600: 1.7655816693648183\n",
      "Cost after iteration 2700: 1.430051404185142\n",
      "Cost after iteration 2800: 1.3990270484333296\n",
      "Cost after iteration 2900: 1.669488139748074\n",
      "Cost after iteration 3000: 1.7329057906630307\n",
      "Cost after iteration 3100: 1.0541140623679306\n",
      "Cost after iteration 3200: 1.004271226387645\n",
      "Cost after iteration 3300: 1.1261191555691297\n",
      "Cost after iteration 3400: 0.8163942191496806\n",
      "Cost after iteration 3500: 0.7538596107686988\n",
      "Cost after iteration 3600: 0.8445111929320588\n",
      "Cost after iteration 3700: 0.6323803172697852\n",
      "Cost after iteration 3800: 0.8356722995221931\n",
      "Cost after iteration 3900: 0.5410214241852711\n",
      "Cost after iteration 4000: 0.5211552887645112\n"
     ]
    },
    {
     "data": {
      "image/png": "[encoded data removed]",
      "text/plain": [
       "<Figure size 432x288 with 1 Axes>"
      ]
     },
     "metadata": {},
     "output_type": "display_data"
    }
   ],
   "source": [
    "para = three_layers_nn(data1_x,data1_y,layers_dimentions=layers_dimentions,learning_rate=0.0006,num_iterations=4001,activation='relu')"
   ]
  },
  {
   "cell_type": "code",
   "execution_count": 39,
   "metadata": {},
   "outputs": [],
   "source": [
    "#help(tf.one_hot)"
   ]
  },
  {
   "cell_type": "code",
   "execution_count": 145,
   "metadata": {
    "scrolled": true
   },
   "outputs": [],
   "source": [
    "#print(para)"
   ]
  },
  {
   "cell_type": "code",
   "execution_count": 143,
   "metadata": {},
   "outputs": [],
   "source": [
    "def errors(parameters,X_test,Y_test):\n",
    "    m = X_test.shape[1]\n",
    "    Y_pred, _ = forward_prop(X_test, parameters, activation='relu')\n",
    "    sess = tf.Session()\n",
    "    errors = tf.reduce_mean((Y_pred - Y_test))\n",
    "    \n",
    "    print(sess.run(errors))"
   ]
  },
  {
   "cell_type": "code",
   "execution_count": 144,
   "metadata": {},
   "outputs": [
    {
     "name": "stdout",
     "output_type": "stream",
     "text": [
      "1.0665479373211062e-17\n"
     ]
    }
   ],
   "source": [
    "errors(para,data_x_test,data_y_test)"
   ]
  },
  {
   "cell_type": "code",
   "execution_count": 140,
   "metadata": {},
   "outputs": [],
   "source": [
    "def save_para(para):\n",
    "    \n",
    "    W1 = tf.Variable(para['W1'], dtype = tf.float32, name = 'W1')\n",
    "    W2 = tf.Variable(para['W2'], dtype = tf.float32, name = 'W2')\n",
    "    W3 = tf.Variable(para['W3'], dtype = tf.float32, name = 'W3')\n",
    "    b1 = tf.Variable(para['b1'], dtype = tf.float32, name = 'b1')\n",
    "    b2 = tf.Variable(para['b2'], dtype = tf.float32, name = 'b2')\n",
    "    b3 = tf.Variable(para['b3'], dtype = tf.float32, name = 'b3')\n",
    "    \n",
    "    init = tf.global_variables_initializer()\n",
    "    saver = tf.train.Saver()\n",
    "\n",
    "    with tf.Session() as sess:\n",
    "        sess.run(init)\n",
    "        save_path = saver.save(sess, 'D:\\cifar-10-batches-py\\save_para_with_sigmoid.ckpt')\n",
    "\n"
   ]
  },
  {
   "cell_type": "code",
   "execution_count": 141,
   "metadata": {},
   "outputs": [],
   "source": [
    "save_para(para)"
   ]
  },
  {
   "cell_type": "code",
   "execution_count": null,
   "metadata": {},
   "outputs": [],
   "source": []
  }
 ],
 "metadata": {
  "kernelspec": {
   "display_name": "Python 3",
   "language": "python",
   "name": "python3"
  },
  "language_info": {
   "codemirror_mode": {
    "name": "ipython",
    "version": 3
   },
   "file_extension": ".py",
   "mimetype": "text/x-python",
   "name": "python",
   "nbconvert_exporter": "python",
   "pygments_lexer": "ipython3",
   "version": "3.6.5"
  }
 },
 "nbformat": 4,
 "nbformat_minor": 1
}
